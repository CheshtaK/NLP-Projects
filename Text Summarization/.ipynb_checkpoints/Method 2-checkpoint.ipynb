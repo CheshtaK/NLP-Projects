{
 "cells": [
  {
   "cell_type": "markdown",
   "metadata": {},
   "source": [
    "## Method 2\n",
    "\n",
    "Apply TextRank algorithm to source document and find corresponding translations in second language"
   ]
  },
  {
   "cell_type": "markdown",
   "metadata": {},
   "source": [
    "### Import required libraries"
   ]
  },
  {
   "cell_type": "code",
   "execution_count": 6,
   "metadata": {},
   "outputs": [
    {
     "name": "stderr",
     "output_type": "stream",
     "text": [
      "[nltk_data] Downloading package punkt to C:\\nltk_data...\n",
      "[nltk_data]   Package punkt is already up-to-date!\n"
     ]
    }
   ],
   "source": [
    "import numpy as np\n",
    "import pandas as pd\n",
    "import nltk\n",
    "nltk.download('punkt')\n",
    "import re"
   ]
  },
  {
   "cell_type": "markdown",
   "metadata": {},
   "source": [
    "## Part 1 : Summarization"
   ]
  },
  {
   "cell_type": "markdown",
   "metadata": {},
   "source": [
    "### Reading the data"
   ]
  },
  {
   "cell_type": "code",
   "execution_count": 1,
   "metadata": {},
   "outputs": [],
   "source": [
    "with open('./deu.txt', encoding='utf-8') as f:\n",
    "    text = f.read()"
   ]
  },
  {
   "cell_type": "code",
   "execution_count": 2,
   "metadata": {},
   "outputs": [],
   "source": [
    "deu_eng = text.strip().split('\\n')\n",
    "deu_eng = [i.split('\\t') for i in deu_eng]\n",
    "#deu_eng = np.array(deu_eng)"
   ]
  },
  {
   "cell_type": "code",
   "execution_count": 3,
   "metadata": {},
   "outputs": [],
   "source": [
    "deu_eng_dict = {english: german for english,german in  deu_eng}"
   ]
  },
  {
   "cell_type": "code",
   "execution_count": 4,
   "metadata": {},
   "outputs": [
    {
     "data": {
      "text/plain": [
       "{'Hi.': 'Grüß Gott!',\n",
       " 'Run!': 'Lauf!',\n",
       " 'Wow!': 'Donnerwetter!',\n",
       " 'Fire!': 'Feuer!',\n",
       " 'Help!': 'Zu Hülf!',\n",
       " 'Stop!': 'Stopp!',\n",
       " 'Wait!': 'Warte!',\n",
       " 'Go on.': 'Mach weiter.',\n",
       " 'Hello!': 'Hallo!',\n",
       " 'I ran.': 'Ich rannte.',\n",
       " 'I see.': 'Aha.',\n",
       " 'I try.': 'Ich probiere es.',\n",
       " 'I won!': 'Ich habe gewonnen!',\n",
       " 'Smile.': 'Lächeln!',\n",
       " 'Cheers!': 'Zum Wohl!',\n",
       " 'Freeze!': 'Stehenbleiben!',\n",
       " 'Got it?': 'Einverstanden?',\n",
       " 'He ran.': 'Er lief.',\n",
       " 'Hop in.': 'Mach mit!',\n",
       " 'Hug me.': 'Umarme mich!',\n",
       " 'I fell.': 'Ich bin gestürzt.',\n",
       " 'I know.': 'Ich weiß.',\n",
       " 'I lied.': 'Ich habe gelogen.',\n",
       " 'I lost.': 'Ich habe verloren.',\n",
       " 'I paid.': 'Ich zahlte.',\n",
       " 'I sang.': 'Ich sang.',\n",
       " 'I swim.': 'Ich schwimme.',\n",
       " \"I'm 19.\": 'Ich bin 19.',\n",
       " \"I'm OK.\": 'Es geht mir gut.',\n",
       " \"I'm up.\": 'Ich bin auf.',\n",
       " 'No way!': 'In keinster Weise!',\n",
       " 'Really?': 'Im Ernst?',\n",
       " 'Thanks.': 'Danke!',\n",
       " 'Try it.': 'Versuch’s!',\n",
       " 'We won.': 'Wir haben gewonnen.',\n",
       " 'Why me?': 'Warum ich?',\n",
       " 'Ask Tom.': 'Fragt Tom!',\n",
       " 'Awesome!': 'Fantastisch!',\n",
       " 'Be cool.': 'Entspann dich!',\n",
       " 'Be fair.': 'Sei fair!',\n",
       " 'Be nice.': 'Seien Sie nett!',\n",
       " 'Beat it.': 'Scher dich fort!',\n",
       " 'Call me.': 'Ruf mich an.',\n",
       " 'Come in.': 'Herein!',\n",
       " 'Come on!': 'Macht schon!',\n",
       " 'Come on.': 'Komm schon!',\n",
       " 'Get Tom.': 'Hol Tom.',\n",
       " 'Get out!': 'Geht raus!',\n",
       " 'Get out.': 'Geht raus!',\n",
       " 'Go away!': 'Scher dich fort!',\n",
       " 'Go away.': 'Gehen Sie weg.',\n",
       " 'Go home.': 'Geh heim.',\n",
       " 'Goodbye!': 'Tschüss!',\n",
       " 'Hang on!': 'Nicht nachlassen!',\n",
       " 'He came.': 'Er kam.',\n",
       " 'He runs.': 'Er läuft.',\n",
       " 'Help me.': 'Hilf mir.',\n",
       " 'Help us.': 'Helfen Sie uns!',\n",
       " 'Hi, Tom.': 'Hallo, Tom!',\n",
       " 'Hit Tom.': 'Schlagen Sie Tom!',\n",
       " 'Hold on.': 'Warten Sie kurz!',\n",
       " 'Hug Tom.': 'Drück Tom!',\n",
       " 'I agree.': 'Ich bin einverstanden.',\n",
       " 'I cried.': 'Ich habe geweint.',\n",
       " 'I snore.': 'Ich schnarche.',\n",
       " \"I'll go.\": 'Ich gehe.',\n",
       " \"I'm fat.\": 'Ich bin dick.',\n",
       " \"I'm hit!\": 'Ich wurde getroffen!',\n",
       " \"I'm new.\": 'Ich bin neu.',\n",
       " \"I'm old.\": 'Ich bin alt.',\n",
       " \"I'm sad.\": 'Ich bin traurig.',\n",
       " \"I'm shy.\": 'Ich bin schüchtern.',\n",
       " \"I'm wet.\": 'Ich bin nass.',\n",
       " \"It's OK.\": 'Es ist in Ordnung.',\n",
       " \"It's me!\": \"Ich bin's.\",\n",
       " \"It's me.\": \"Ich bin's.\",\n",
       " 'Kiss me.': 'Küsst mich.',\n",
       " 'Lock it.': 'Schließ ihn ab.',\n",
       " 'Perfect!': 'Perfekt!',\n",
       " 'See you.': 'Wir sehen uns.',\n",
       " 'Show me.': \"Zeig's mir!\",\n",
       " 'Shut up!': \"Halt's Maul!\",\n",
       " 'So long.': 'Bis später!',\n",
       " 'Stop it.': 'Hör auf.',\n",
       " 'Take it.': 'Nehmen Sie es.',\n",
       " 'Tom ate.': 'Tom hat gegessen.',\n",
       " 'Tom ran.': 'Tom ist gerannt.',\n",
       " 'Tom won.': 'Tom hat gewonnen.',\n",
       " 'Wait up.': 'Wartet mal!',\n",
       " 'Wake up!': 'Wachen Sie auf!',\n",
       " 'Wake up.': 'Wachen Sie auf!',\n",
       " 'We lost.': 'Wir haben verloren.',\n",
       " 'Welcome.': 'Willkommen!',\n",
       " 'Who ate?': 'Wer aß?',\n",
       " 'Who ran?': 'Wer ist gerannt?',\n",
       " 'You run.': 'Sie laufen.',\n",
       " 'You won.': 'Du hast gewonnen.',\n",
       " 'Am I fat?': 'Bin ich dick?',\n",
       " 'Ask them.': 'Frag sie.',\n",
       " 'Back off.': 'Komm nicht näher!',\n",
       " 'Be a man.': 'Sei ein Mann!',\n",
       " 'Be brave.': 'Seid tapfer!',\n",
       " 'Be brief.': 'Fasst euch kurz.',\n",
       " 'Call Tom.': 'Ruft Tom an!',\n",
       " 'Can I go?': 'Kann ich gehen?',\n",
       " 'Cheer up!': 'Kopf hoch!',\n",
       " 'Cool off!': 'Reg dich ab!',\n",
       " 'Cuff him.': 'Legen Sie ihm Handschellen an.',\n",
       " \"Don't go.\": 'Geh nicht.',\n",
       " 'Find Tom.': 'Finden Sie Tom.',\n",
       " 'Fix this.': 'Reparieren Sie das.',\n",
       " 'Get away!': 'Scher dich fort!',\n",
       " 'Get down!': 'In Deckung!',\n",
       " 'Get down.': 'Kommen Sie runter.',\n",
       " 'Get lost!': 'Scher dich fort!',\n",
       " 'Get real!': 'Jetzt mal ernsthaft!',\n",
       " 'Go ahead!': 'Nur zu!',\n",
       " 'Go ahead.': 'Mach weiter!',\n",
       " 'Grab Tom.': 'Hol Tom.',\n",
       " 'Grab him.': 'Greif ihn dir!',\n",
       " 'Have fun.': 'Feier schön!',\n",
       " 'He spoke.': 'Er sprach.',\n",
       " 'He tries.': 'Er versucht es.',\n",
       " 'Help Tom.': 'Helfen Sie Tom!',\n",
       " 'How cute!': 'Wie süß!',\n",
       " 'How deep?': 'Wie tief?',\n",
       " 'How nice!': 'Wie schön!',\n",
       " 'Humor me.': 'Tun Sie mir den Gefallen.',\n",
       " 'Hurry up.': 'Mach hin!',\n",
       " 'I am fat.': 'Ich bin dick.',\n",
       " 'I can go.': 'Ich kann gehen.',\n",
       " 'I did it.': \"Ich hab's gemacht.\",\n",
       " 'I get by.': 'Ich komme über die Runden.',\n",
       " 'I get it.': 'Ich verstehe.',\n",
       " 'I got it.': \"Ich hab's.\",\n",
       " 'I helped.': 'Ich habe geholfen.',\n",
       " 'I jumped.': 'Ich bin gesprungen.',\n",
       " 'I refuse.': 'Ich weigere mich.',\n",
       " 'I resign.': 'Ich trete zurück.',\n",
       " 'I shaved.': 'Ich habe mich rasiert.',\n",
       " 'I smiled.': 'Ich lächelte.',\n",
       " 'I stayed.': 'Ich bin dageblieben.',\n",
       " 'I use it.': 'Ich benutze es.',\n",
       " 'I waited.': 'Ich habe gewartet.',\n",
       " 'I yawned.': 'Ich habe gegähnt.',\n",
       " \"I'll pay.\": 'Ich werde zahlen.',\n",
       " \"I'll try.\": 'Ich werde es versuchen.',\n",
       " \"I'm back.\": 'Ich bin wieder da.',\n",
       " \"I'm bald.\": 'Ich habe eine Glatze.',\n",
       " \"I'm busy.\": 'Ich habe zu tun.',\n",
       " \"I'm fair.\": 'Ich bin gerecht.',\n",
       " \"I'm fine.\": 'Es geht mir gut.',\n",
       " \"I'm free.\": 'Ich bin frei.',\n",
       " \"I'm full.\": 'Ich bin satt.',\n",
       " \"I'm game.\": 'Ich mache mit.',\n",
       " \"I'm good.\": \"Mir geht's gut.\",\n",
       " \"I'm here.\": 'Ich bin hier.',\n",
       " \"I'm home.\": 'Ich bin zu Hause.',\n",
       " \"I'm late.\": 'Ich komme zu spät.',\n",
       " \"I'm lost.\": 'Ich habe mich verirrt.',\n",
       " \"I'm mean.\": 'Ich bin gemein.',\n",
       " \"I'm next.\": 'Ich bin der Nächste.',\n",
       " \"I'm okay.\": 'Es geht mir gut.',\n",
       " \"I'm rich.\": 'Ich bin reich.',\n",
       " \"I'm safe.\": 'Ich bin sicher.',\n",
       " \"I'm sick.\": 'Ich bin krank!',\n",
       " \"I'm tall.\": 'Ich bin groß.',\n",
       " \"I'm thin.\": 'Ich bin dünn.',\n",
       " \"I'm tidy.\": 'Ich bin ordentlich.',\n",
       " \"I'm ugly.\": 'Ich bin hässlich.',\n",
       " \"I'm weak.\": 'Ich bin schwach.',\n",
       " \"I'm well.\": 'Mir geht es gut.',\n",
       " 'It helps.': 'Das hilft.',\n",
       " 'It hurts.': 'Es schmerzt.',\n",
       " 'It works.': 'Es funktioniert.',\n",
       " \"It's Tom.\": 'Es ist Tom.',\n",
       " \"It's his.\": 'Es ist seins.',\n",
       " \"It's hot.\": 'Es ist heiß.',\n",
       " \"It's new.\": 'Es ist neu.',\n",
       " \"It's sad.\": 'Es ist traurig.',\n",
       " 'Keep out!': 'Eintritt verboten!',\n",
       " 'Keep out.': 'Kein Zutritt.',\n",
       " 'Kiss Tom.': 'Küsst Tom!',\n",
       " 'Leave us.': 'Lassen Sie uns allein.',\n",
       " \"Let's go!\": 'Auf, auf!',\n",
       " 'Look out!': 'Vorsicht!',\n",
       " 'Marry me.': 'Heirate mich.',\n",
       " 'May I go?': 'Darf ich gehen?',\n",
       " 'Save Tom.': 'Retten Sie Tom!',\n",
       " 'She came.': 'Sie kam.',\n",
       " 'She lied.': 'Sie log.',\n",
       " 'She runs.': 'Sie rennt.',\n",
       " 'Sit down!': 'Setzen Sie sich!',\n",
       " 'Sit down.': 'Setz dich!',\n",
       " 'Speak up!': 'Sprich lauter!',\n",
       " 'Stand up!': 'Stehe auf!',\n",
       " 'Stop Tom.': 'Haltet Tom auf!',\n",
       " 'Take Tom.': 'Nimm Tom.',\n",
       " 'Tell Tom.': 'Sagt es Tom.',\n",
       " 'Terrific!': 'Wunderbar!',\n",
       " 'They won.': 'Sie haben gewonnen.',\n",
       " 'Tom came.': 'Tom ist gekommen.',\n",
       " 'Tom died.': 'Tom starb.',\n",
       " 'Tom fell.': 'Tom ist gefallen.',\n",
       " 'Tom knew.': 'Tom wusste Bescheid.',\n",
       " 'Tom left.': 'Tom ging.',\n",
       " 'Tom lied.': 'Tom log.',\n",
       " 'Tom lies.': 'Tom lügt.',\n",
       " 'Tom lost.': 'Tom hat verloren.',\n",
       " 'Tom paid.': 'Tom hat gezahlt.',\n",
       " 'Tom quit.': 'Tom hat aufgehört.',\n",
       " 'Tom swam.': 'Tom ist geschwommen.',\n",
       " 'Tom wept.': 'Tom weinte.',\n",
       " \"Tom's up.\": 'Tom ist auf.',\n",
       " 'Too late.': 'Zu spät.',\n",
       " 'Trust me.': 'Vertrauen Sie mir!',\n",
       " 'Try hard.': 'Versuch es richtig!',\n",
       " 'Use this.': 'Nimm das hier!',\n",
       " 'Warn Tom.': 'Warne Tom.',\n",
       " 'Watch me.': 'Schau mir zu.',\n",
       " 'Watch us.': 'Beobachtet uns.',\n",
       " 'We agree.': 'Wir sind einverstanden.',\n",
       " 'We tried.': 'Wir versuchten es.',\n",
       " \"We'll go.\": 'Wir werden gehen.',\n",
       " \"We're OK.\": 'Wir sind in Ordnung.',\n",
       " 'What for?': 'Wozu?',\n",
       " 'What fun!': 'Was für ein Spaß!',\n",
       " 'Who am I?': 'Wer bin ich?',\n",
       " 'Who came?': 'Wer kam?',\n",
       " 'Who died?': 'Wer ist gestorben?',\n",
       " 'Who fell?': 'Wer ist gefallen?',\n",
       " 'Who quit?': 'Wer ist ausgeschieden?',\n",
       " 'Who swam?': 'Wer ist geschwommen?',\n",
       " \"Who's he?\": 'Wer ist er?',\n",
       " 'Write me.': 'Schreibt mir!',\n",
       " 'You lost.': 'Ihr habt verloren.',\n",
       " 'Aim. Fire!': 'Zielen. Feuer!',\n",
       " 'Am I late?': 'Bin ich zu spät?',\n",
       " 'Answer me.': 'Antworten Sie mir.',\n",
       " 'Birds fly.': 'Vögel fliegen.',\n",
       " 'Bless you.': 'Gesundheit.',\n",
       " 'Call home!': 'Rufen Sie zuhause an!',\n",
       " 'Calm down!': 'Beruhige dich!',\n",
       " 'Calm down.': 'Beruhigen Sie sich.',\n",
       " 'Can I eat?': 'Kann ich essen?',\n",
       " 'Can we go?': 'Können wir gehen?',\n",
       " 'Catch Tom.': 'Fangt Tom!',\n",
       " 'Chill out.': 'Entspann dich.',\n",
       " 'Come back.': 'Komm wieder!',\n",
       " 'Come here.': 'Komm her!',\n",
       " 'Come home.': 'Komm heim!',\n",
       " 'Come over!': 'Komm hierher!',\n",
       " 'Come soon.': 'Kommen Sie bald.',\n",
       " 'Cool down.': 'Beruhige dich!',\n",
       " 'Did I win?': 'Habe ich gewonnen?',\n",
       " 'Do it now.': 'Mach es jetzt!',\n",
       " 'Dogs bark.': 'Hunde bellen.',\n",
       " \"Don't ask.\": 'Frag nicht.',\n",
       " \"Don't cry.\": 'Weint nicht!',\n",
       " \"Don't die.\": 'Stirb nicht!',\n",
       " \"Don't lie.\": 'Lüge nicht.',\n",
       " \"Don't run.\": 'Lauf nicht.',\n",
       " 'Excuse me.': 'Entschuldigen Sie!',\n",
       " 'Fantastic!': 'Ganz toll!',\n",
       " 'Feel this.': 'Fühl mal.',\n",
       " 'Follow me.': 'Folge mir.',\n",
       " 'Forget it!': 'Daraus wird nichts.',\n",
       " 'Forget it.': 'Das kannst du knicken.',\n",
       " 'Go for it.': 'Tue es.',\n",
       " 'Go get it.': \"Hol's dir!\",\n",
       " 'Go inside.': 'Komm rein.',\n",
       " 'Go to bed.': 'Legt euch schlafen!',\n",
       " 'Hands off.': 'Hände weg!',\n",
       " 'Have some.': 'Nehmen Sie davon.',\n",
       " 'He is ill.': 'Er ist krank.',\n",
       " 'He is old.': 'Er ist alt.',\n",
       " 'He smiled.': 'Er lächelte.',\n",
       " \"He's a DJ.\": 'Er ist Plattenaufleger.',\n",
       " \"He's fast.\": 'Er ist schnell.',\n",
       " \"He's good.\": 'Er ist gut.',\n",
       " \"He's lazy.\": 'Er ist träge.',\n",
       " \"He's rich.\": 'Er ist reich.',\n",
       " 'Here I am.': 'Hier bin ich.',\n",
       " \"Here's $5.\": 'Hier sind fünf Dollar.',\n",
       " 'Hold fire.': 'Nicht schießen!',\n",
       " 'Hold this.': 'Haltet das!',\n",
       " 'How awful!': 'Schrecklich!',\n",
       " 'How is it?': 'Wie ist die Lage?',\n",
       " 'How weird!': 'Wie seltsam!',\n",
       " 'Humor Tom.': 'Lasst Tom doch seinen Willen.',\n",
       " 'I am busy.': 'Ich habe zu tun.',\n",
       " 'I am fine.': 'Es geht mir gut.',\n",
       " 'I am here.': 'Ich bin hier.',\n",
       " 'I am okay.': 'Es geht mir gut.',\n",
       " 'I am sure.': 'Ich bin sicher.',\n",
       " 'I am tall.': 'Ich bin groß.',\n",
       " 'I am weak.': 'Ich bin schwach.',\n",
       " 'I am well.': 'Es geht mir gut.',\n",
       " 'I can fly.': 'Ich kann fliegen.',\n",
       " 'I can run.': 'Ich kann rennen.',\n",
       " 'I can ski.': 'Ich kann Ski fahren.',\n",
       " 'I can win.': 'Ich kann gewinnen.',\n",
       " 'I cheated.': 'Ich habe geschummelt.',\n",
       " 'I fainted.': 'Ich fiel in Ohnmacht.',\n",
       " 'I fear so.': 'Ich fürchte, ja.',\n",
       " 'I gave up.': 'Ich gab auf.',\n",
       " 'I get you.': 'Ich verstehe, was du meinst.',\n",
       " 'I giggled.': 'Ich kicherte.',\n",
       " 'I give in.': 'Ich füge mich.',\n",
       " 'I got mad.': 'Ich wurde böse.',\n",
       " 'I had fun.': 'Ich habe mich amüsiert.',\n",
       " 'I hit Tom.': 'Ich habe Tom geschlagen.',\n",
       " 'I hope so.': 'Ich hoffe es.',\n",
       " 'I hung up.': 'Ich habe aufgelegt.',\n",
       " 'I knew it.': 'Ich wusste das.',\n",
       " 'I laughed.': 'Ich lachte.',\n",
       " 'I like it.': 'Das gefällt mir.',\n",
       " 'I lost it.': 'Ich habe ihn verloren.',\n",
       " 'I love it!': 'Ich liebe es!',\n",
       " 'I love it.': 'Ich liebe es.',\n",
       " 'I made it.': 'Ich habe es geschafft.',\n",
       " 'I may win.': 'Vielleicht gewinne ich.',\n",
       " 'I mean it!': 'Ich meine es ernst!',\n",
       " 'I mean it.': 'Es ist ernst gemeint von mir.',\n",
       " 'I met Tom.': 'Ich bin Tom begegnet.',\n",
       " 'I met him.': 'Ich habe ihn getroffen.',\n",
       " 'I miss it.': 'Es fehlt mir.',\n",
       " 'I promise.': 'Ich verspreche es.',\n",
       " 'I said no.': 'Ich sagte nein.',\n",
       " 'I saw Tom.': 'Ich habe Tom gesehen.',\n",
       " 'I saw him.': 'Ich habe ihn gesehen.',\n",
       " 'I saw one.': 'Ich habe einen gesehen.',\n",
       " 'I saw you.': 'Ich habe euch gesehen.',\n",
       " 'I see Tom.': 'Ich sehe Tom.',\n",
       " 'I took it.': 'Ich habe es genommen.',\n",
       " 'I want it.': 'Ich will es.',\n",
       " 'I was new.': 'Ich war neu.',\n",
       " 'I was shy.': 'Ich war schüchtern.',\n",
       " 'I will go.': 'Ich werde gehen.',\n",
       " 'I woke up.': 'Ich wachte auf.',\n",
       " \"I'd do it.\": 'Ich würde es tun.',\n",
       " \"I'd leave.\": 'Ich würde gehen.',\n",
       " \"I'll call.\": 'Ich werde anrufen.',\n",
       " \"I'll come.\": 'Ich werde kommen.',\n",
       " \"I'll cook.\": 'Ich werde kochen.',\n",
       " \"I'll help.\": 'Ich helfe.',\n",
       " \"I'll live.\": 'Ich werde leben.',\n",
       " \"I'll obey.\": 'Ich werde gehorchen.',\n",
       " \"I'll quit.\": 'Ich werde abbrechen.',\n",
       " \"I'll sing.\": 'Ich werde singen.',\n",
       " \"I'll stay.\": 'Ich werde bleiben.',\n",
       " \"I'll stop.\": 'Ich werde aufhören.',\n",
       " \"I'll talk.\": 'Ich werde reden.',\n",
       " \"I'll wait.\": 'Ich werde warten.',\n",
       " \"I'll walk.\": 'Ich gehe zu Fuß.',\n",
       " \"I'm a man.\": 'Ich bin ein Mann.',\n",
       " \"I'm angry.\": 'Ich bin sauer.',\n",
       " \"I'm awake.\": 'Ich bin wach.',\n",
       " \"I'm blind.\": 'Ich bin blind.',\n",
       " \"I'm bored.\": 'Mir ist langweilig.',\n",
       " \"I'm broke.\": 'Ich bin pleite.',\n",
       " \"I'm cured.\": 'Ich bin geheilt.',\n",
       " \"I'm drunk.\": 'Ich bin blau.',\n",
       " \"I'm dying.\": 'Ich werde bald sterben.',\n",
       " \"I'm early.\": 'Ich bin früh dran.',\n",
       " \"I'm first.\": 'Ich bin Erste.',\n",
       " \"I'm going.\": 'Ich gehe jetzt.',\n",
       " \"I'm happy.\": 'Ich bin froh.',\n",
       " \"I'm lying.\": 'Ich lüge.',\n",
       " \"I'm needy.\": 'Ich bin bedürftig.',\n",
       " \"I'm ready!\": 'Ich bin soweit!',\n",
       " \"I'm ready.\": 'Ich bin so weit.',\n",
       " \"I'm right.\": 'Ich habe Recht.',\n",
       " \"I'm sober.\": 'Ich bin nüchtern.',\n",
       " \"I'm sorry.\": 'Entschuldigung!',\n",
       " \"I'm stuck.\": 'Ich stecke fest.',\n",
       " \"I'm tired.\": 'Ich bin müde.',\n",
       " \"I'm tough.\": 'Ich bin zäh.',\n",
       " \"I'm upset.\": 'Ich bin bestürzt.',\n",
       " \"I'm yours.\": 'Ich gehöre dir.',\n",
       " \"I've lost.\": 'Ich habe verloren.',\n",
       " 'Ignore it.': 'Beachten Sie es gar nicht!',\n",
       " 'Is Tom OK?': 'Ist Tom okay?',\n",
       " 'Is Tom in?': 'Ist Tom da?',\n",
       " 'Is he Tom?': 'Ist er Tom?',\n",
       " 'Is it bad?': 'Ist es schlimm?',\n",
       " 'Is it far?': 'Ist das weit?',\n",
       " 'Is it hot?': 'Ist es heiß?',\n",
       " 'Is it new?': 'Ist es neu?',\n",
       " 'It burned.': 'Es verbrannte.',\n",
       " 'It snowed.': 'Es hat geschneit.',\n",
       " 'It worked.': 'Das hat funktioniert.',\n",
       " \"It's 3:30.\": 'Es ist halb vier.',\n",
       " \"It's 7:45.\": 'Es ist sieben Uhr fünfundvierzig.',\n",
       " \"It's 8:30.\": 'Es ist 8:30 Uhr.',\n",
       " \"It's 9:15.\": 'Es ist 9.15\\xa0Uhr.',\n",
       " \"It's a TV.\": 'Das ist ein Fernseher.',\n",
       " \"It's cold.\": 'Es ist kalt.',\n",
       " \"It's cool.\": 'Es ist kühl.',\n",
       " \"It's dark.\": 'Es ist dunkel.',\n",
       " \"It's easy.\": 'Es ist einfach.',\n",
       " \"It's fair.\": 'Es ist gerecht.',\n",
       " \"It's free.\": 'Es ist frei.',\n",
       " \"It's hard.\": 'Das ist hart.',\n",
       " \"It's here.\": 'Es ist hier.',\n",
       " \"It's late.\": 'Es ist spät.',\n",
       " \"It's mine.\": 'Er gehört mir.',\n",
       " \"It's okay.\": 'Es ist in Ordnung.',\n",
       " \"It's open.\": 'Es ist geöffnet.',\n",
       " \"It's ours.\": 'Es ist unsers.',\n",
       " \"It's sand.\": 'Es ist Sand.',\n",
       " \"It's true.\": 'Es ist wahr.',\n",
       " \"It's work.\": 'Das ist meine Arbeit.',\n",
       " 'Jump down.': 'Spring runter!',\n",
       " 'Keep away.': 'Bleiben Sie weg.',\n",
       " 'Keep back.': 'Bleiben Sie zurück.',\n",
       " 'Keep cool.': 'Bleib gelassen!',\n",
       " 'Keep that.': 'Behalt’s!',\n",
       " 'Keep them.': 'Behaltet sie.',\n",
       " 'Keep warm.': 'Halten Sie sich warm.',\n",
       " 'Leave Tom.': 'Verlassen Sie Tom.',\n",
       " 'Leave now.': 'Geht jetzt!',\n",
       " 'Let it be.': 'Lass es bleiben.',\n",
       " 'Let me be.': 'Lass mich in Ruhe.',\n",
       " 'Let me go!': 'Lass mich gehen!',\n",
       " 'Let me in.': 'Lass mich herein.',\n",
       " 'Let us go.': 'Lassen Sie uns gehen.',\n",
       " \"Let's eat.\": 'Essen wir etwas!',\n",
       " \"Let's see.\": 'Schauen wir mal.',\n",
       " \"Let's try!\": 'Lass es uns probieren!',\n",
       " 'Lie still.': 'Lieg still und beweg dich nicht.',\n",
       " 'Listen up.': 'Hör zu.',\n",
       " 'Look back!': 'Schau nach hinten!',\n",
       " 'Look here.': 'Schau her.',\n",
       " 'Loosen it.': 'Dreh es auf.',\n",
       " 'Loosen up.': 'Mach dich locker!',\n",
       " 'Move over.': 'Rutsch mal ein Stück!',\n",
       " 'Nice shot!': 'Guter Schuss!',\n",
       " 'Of course!': 'Aber sicher doch!',\n",
       " 'Please go.': 'Bitte gehen Sie.',\n",
       " 'Put it on.': 'Setz ihn dir auf.',\n",
       " 'Read this.': 'Lies das hier.',\n",
       " 'Say \"aah.\"': 'Sag „Ah!“',\n",
       " 'Say hello.': 'Sag Hallo.',\n",
       " 'See below.': 'Siehe unten.',\n",
       " 'Seize him!': 'Fasst ihn!',\n",
       " 'Seriously?': 'Im Ernst?',\n",
       " 'She cried.': 'Sie weinte.',\n",
       " 'She tried.': \"Sie hat's versucht.\",\n",
       " 'She walks.': 'Sie geht.',\n",
       " 'Sign here.': 'Unterschreiben Sie hier.',\n",
       " 'Sign this.': 'Unterschreib das.',\n",
       " 'Sit still.': 'Sitzen Sie still.',\n",
       " 'Sit tight.': 'Harre aus!',\n",
       " 'Start now.': 'Fang jetzt an.',\n",
       " 'Stay away.': 'Bleiben Sie weg.',\n",
       " 'Stay back.': 'Bleibt zurück!',\n",
       " 'Stay calm.': 'Bleiben Sie ruhig.',\n",
       " 'Stay cool.': 'Bleibt cool.',\n",
       " 'Stay down!': 'Bleib unten!',\n",
       " 'Stay down.': 'Bleib unten!',\n",
       " 'Stay thin.': 'Bleib dünn.',\n",
       " 'Step back.': 'Tritt zurück!',\n",
       " 'Stop here.': 'Bleib hier stehen.',\n",
       " 'Stop that!': 'Hör mal auf damit!',\n",
       " 'Stop them.': 'Stoppen Sie sie.',\n",
       " 'Take care!': 'Pass auf dich auf!',\n",
       " 'Take care.': \"Mach's gut.\",\n",
       " 'Take mine.': 'Nehmen Sie meine.',\n",
       " 'Take over.': 'Übernehmen Sie.',\n",
       " 'Take this.': 'Nimm das.',\n",
       " 'Thank you.': 'Danke!',\n",
       " \"That's OK.\": 'Das ist o.k.',\n",
       " \"That's it.\": \"Das war's.\",\n",
       " \"That's me.\": 'Ich bin jetzt fertig.',\n",
       " 'Then what?': 'Na und?',\n",
       " 'They fell.': 'Sie stürzten.',\n",
       " 'They lied.': 'Sie haben gelogen.',\n",
       " 'They lost.': 'Sie haben verloren.',\n",
       " 'They swam.': 'Sie schwammen.',\n",
       " \"Time's up.\": 'Die Zeit ist um.',\n",
       " 'Tom bowed.': 'Tom verneigte sich.',\n",
       " 'Tom cried.': 'Tom weinte.',\n",
       " 'Tom dozed.': 'Tom döste.',\n",
       " 'Tom drove.': 'Tom fuhr.',\n",
       " 'Tom froze.': 'Tom erstarrte.',\n",
       " 'Tom is OK.': 'Tom ist in Ordnung.',\n",
       " 'Tom is in.': 'Tom ist hier.',\n",
       " 'Tom is up.': 'Tom ist auf.',\n",
       " 'Tom knits.': 'Tom strickt.',\n",
       " 'Tom knows.': 'Tom weiß es.',\n",
       " 'Tom moved.': 'Tom bewegte sich.',\n",
       " 'Tom slept.': 'Tom schlief.',\n",
       " 'Tom spoke.': 'Tom sprach.',\n",
       " 'Tom swims.': 'Tom schwimmt.',\n",
       " 'Tom tried.': 'Tom hat es versucht.',\n",
       " 'Tom tries.': 'Tom versucht es.',\n",
       " 'Tom voted.': 'Tom wählte.',\n",
       " 'Tom walks.': 'Tom geht zu Fuß.',\n",
       " 'Tom waved.': 'Tom winkte.',\n",
       " 'Tom works.': 'Tom arbeitet.',\n",
       " \"Tom'll go.\": 'Tom wird gehen.',\n",
       " \"Tom's fat.\": 'Tom ist dick.',\n",
       " \"Tom's mad.\": 'Tom ist wütend.',\n",
       " \"Tom's sad.\": 'Tom ist traurig.',\n",
       " \"Tom's shy.\": 'Tom ist schüchtern.',\n",
       " 'Trust Tom.': 'Vertraut Tom!',\n",
       " 'Try again.': 'Versucht es noch mal.',\n",
       " 'Try it on.': 'Probier ihn an!',\n",
       " 'Watch Tom.': 'Seht Tom zu!',\n",
       " 'We agreed.': 'Wir stimmten zu.',\n",
       " 'We saw it.': 'Wir haben es gesehen.',\n",
       " 'We talked.': 'Wir haben uns unterhalten.',\n",
       " 'We waited.': 'Wir warteten.',\n",
       " \"We'll see.\": 'Wir werden sehen.',\n",
       " \"We'll try.\": 'Wir werden es versuchen.',\n",
       " \"We'll win.\": 'Wir werden siegen.',\n",
       " \"We're hot.\": 'Uns ist heiß.',\n",
       " \"We're sad.\": 'Wir sind traurig.',\n",
       " \"We're shy.\": 'Wir sind schüchtern.',\n",
       " \"We've won!\": 'Wir haben gewonnen!',\n",
       " 'What else?': 'Was noch?',\n",
       " \"What's on?\": 'Was ist los?',\n",
       " \"What's up?\": \"Na, wie geht's?\",\n",
       " 'Who cares?': 'Wen kümmert das schon?',\n",
       " 'Who is he?': 'Wer ist er?',\n",
       " 'Who spoke?': 'Wer sprach?',\n",
       " 'Who stood?': 'Wer stand?',\n",
       " \"Who'll go?\": 'Wer wird gehen?',\n",
       " \"Who's she?\": 'Wer ist sie?',\n",
       " 'Wonderful!': 'Herrlich!',\n",
       " 'Write Tom.': 'Schreibt Tom!',\n",
       " 'You drive.': 'Sie fahren.',\n",
       " 'You idiot!': 'Du Idiot!',\n",
       " 'You start.': 'Du fängst an.',\n",
       " 'You stink.': 'Sie stinken.',\n",
       " 'You tried.': \"Du hast's versucht.\",\n",
       " \"You're OK.\": 'Du bist okay.',\n",
       " 'Aim higher.': 'Zielt höher!',\n",
       " 'All aboard!': 'Alle Mann an Bord!',\n",
       " 'Am I dying?': 'Sterbe ich?',\n",
       " 'Am I early?': 'Bin ich früh dran?',\n",
       " 'Am I fired?': 'Bin ich gefeuert?',\n",
       " 'Am I hired?': 'Bin ich eingestellt?',\n",
       " 'Am I right?': 'Liege ich richtig?',\n",
       " 'Am I wrong?': 'Irre ich mich?',\n",
       " 'Answer Tom.': 'Antwortet Tom!',\n",
       " 'Are you 18?': 'Bist du 18?',\n",
       " 'Are you OK?': 'Geht es Ihnen gut?',\n",
       " 'Are you in?': 'Bist du dabei?',\n",
       " 'Are you up?': 'Bist du auf?',\n",
       " 'Ask anyone.': 'Frag irgendwen!',\n",
       " 'Ask around.': 'Fragt herum.',\n",
       " 'Be careful.': 'Gib acht!',\n",
       " 'Be patient.': 'Sei geduldig!',\n",
       " 'Be serious.': 'Bleib mal auf dem Boden der Tatsachen!',\n",
       " 'Birds sing.': 'Vögel singen.',\n",
       " 'Bring wine.': 'Bring Wein.',\n",
       " 'Can I come?': 'Darf ich kommen?',\n",
       " 'Can I help?': 'Kann ich mich nützlich machen?',\n",
       " 'Can I stay?': 'Kann ich bleiben?',\n",
       " 'Carry this.': 'Trag das.',\n",
       " 'Check that.': 'Prüfen Sie das nach!',\n",
       " 'Check this.': 'Überprüfen Sie das.',\n",
       " 'Choose one.': 'Suche eines aus.',\n",
       " 'Come again.': 'Kommen Sie wieder.',\n",
       " 'Come alone.': 'Kommt allein.',\n",
       " 'Come along.': 'Kommt mit.',\n",
       " 'Come early.': 'Komm frühzeitig.',\n",
       " 'Come on in!': 'Komm doch herein!',\n",
       " 'Come on in.': 'Komm herein.',\n",
       " 'Come to me.': 'Komm zu mir.',\n",
       " 'Come to us.': 'Komm zu uns.',\n",
       " 'Definitely!': 'Auf jeden Fall!',\n",
       " 'Did Tom go?': 'Ist Tom gegangen?',\n",
       " 'Do come in.': 'Kommen Sie bitte herein.',\n",
       " 'Do men cry?': 'Weinen Männer?',\n",
       " \"Don't brag.\": 'Gib nicht an.',\n",
       " \"Don't come.\": 'Kommen Sie nicht!',\n",
       " \"Don't jump!\": 'Spring nicht!',\n",
       " \"Don't look.\": 'Nicht gucken!',\n",
       " \"Don't move.\": 'Nicht bewegen!',\n",
       " \"Don't peek.\": 'Nicht gucken!',\n",
       " \"Don't push.\": 'Nicht schubsen!',\n",
       " \"Don't sing.\": 'Sing nicht.',\n",
       " \"Don't stop.\": 'Hör nicht auf.',\n",
       " \"Don't talk!\": 'Sag nichts!',\n",
       " \"Don't wait.\": 'Warten Sie nicht!',\n",
       " \"Don't yell.\": 'Schreit nicht!',\n",
       " 'Drink this.': 'Trink das hier!',\n",
       " 'Duty calls.': 'Die Pflicht ruft.',\n",
       " 'Eat slowly.': 'Iss langsam!',\n",
       " 'Examine it.': 'Untersuchen Sie es.',\n",
       " 'Fill it up.': 'Volltanken.',\n",
       " 'Find a job.': 'Suchen Sie sich Arbeit.',\n",
       " 'Fire burns.': 'Feuer brennt.',\n",
       " 'Follow Tom.': 'Folgt Tom.',\n",
       " 'Follow him.': 'Folge ihm!',\n",
       " 'Forget Tom.': 'Vergiss Tom.',\n",
       " 'Forget him.': 'Vergessen Sie ihn.',\n",
       " 'Forgive us.': 'Vergib uns.',\n",
       " 'Get off me.': 'Lass mich in Ruhe.',\n",
       " 'Give it up.': 'Gib es auf!',\n",
       " 'Go on home.': 'Geh nach Hause.',\n",
       " 'Go see Tom.': 'Geh zu Tom.',\n",
       " 'Go to work.': 'Gehe arbeiten!',\n",
       " 'God exists.': 'Gott existiert.',\n",
       " 'Good night.': 'Gute Nacht!',\n",
       " 'Have faith.': 'Hab Vertrauen.',\n",
       " 'He coughed.': 'Er hustete.',\n",
       " 'He gave in.': 'Er gab auf.',\n",
       " 'He gave up.': 'Er gab auf.',\n",
       " 'He got a D.': 'Er bekam eine Vier.',\n",
       " 'He hung up.': 'Er hat aufgelegt.',\n",
       " 'He is a DJ.': 'Er ist DJ.',\n",
       " 'He is here!': 'Er ist hier!',\n",
       " 'He is kind.': 'Er ist liebenswürdig.',\n",
       " 'He is mean.': 'Er ist fies.',\n",
       " 'He is poor.': 'Er ist arm.',\n",
       " 'He is sick.': 'Er ist krank.',\n",
       " 'He is tall.': 'Er ist groß.',\n",
       " 'He laughed.': 'Er lachte.',\n",
       " 'He made it.': 'Er schaffte es.',\n",
       " \"He's Swiss.\": 'Er ist Schweizer.',\n",
       " \"He's cruel.\": 'Er ist grausam.',\n",
       " \"He's lying.\": 'Er lügt.',\n",
       " \"He's smart.\": 'Er ist elegant.',\n",
       " 'Hello, Tom.': 'Hallo, Tom.',\n",
       " 'Here he is!': 'Er ist hier!',\n",
       " 'Here it is.': 'Hier ist es.',\n",
       " 'Here we go.': \"Jetzt geht's los!\",\n",
       " \"Here's Tom.\": 'Hier ist Tom.',\n",
       " 'Hold still.': 'Haltet still!',\n",
       " 'How absurd!': 'Wie absurd!',\n",
       " 'How boring!': 'Wie langweilig!',\n",
       " 'How clever!': 'Wie klug!',\n",
       " 'How lovely!': 'Wie nett!',\n",
       " 'How tragic!': 'Wie tragisch!',\n",
       " 'How was it?': 'Wir war es?',\n",
       " 'Hurry home.': 'Gehen Sie schnell nach Hause.',\n",
       " 'I admit it.': 'Ich geb es zu.',\n",
       " 'I am a boy.': 'Ich bin ein Junge.',\n",
       " 'I am a man.': 'Ich bin ein Mensch.',\n",
       " 'I am bored.': 'Mir ist langweilig.',\n",
       " 'I am happy.': 'Ich bin froh.',\n",
       " 'I am human.': 'Ich bin menschlich.',\n",
       " 'I am ready.': 'Ich bin soweit.',\n",
       " 'I am right.': 'Ich habe Recht.',\n",
       " 'I am tired.': 'Ich bin müde.',\n",
       " 'I broke it.': 'Ich habe es kaputtgemacht.',\n",
       " 'I built it.': 'Ich habe sie gebaut.',\n",
       " 'I can come.': 'Ich kann kommen.',\n",
       " 'I can cook.': 'Ich kann kochen.',\n",
       " 'I can jump.': 'Ich kann springen.',\n",
       " 'I can sing.': 'Ich kann singen.',\n",
       " 'I can stay.': 'Ich kann bleiben.',\n",
       " 'I can swim.': 'Ich kann schwimmen.',\n",
       " 'I can wait.': 'Ich kann warten.',\n",
       " \"I can't go.\": 'Ich kann nicht gehen.',\n",
       " 'I canceled.': 'Ich sagte ab.',\n",
       " 'I disagree.': 'Ich bin anderer Ansicht.',\n",
       " 'I eat here.': 'Ich esse hier.',\n",
       " 'I eat meat.': 'Ich esse Fleisch.',\n",
       " 'I eat rice.': 'Ich esse Reis.',\n",
       " 'I envy Tom.': 'Ich beneide Tom.',\n",
       " 'I envy her.': 'Ich beneide sie.',\n",
       " 'I envy him.': 'Ich beneide ihn.',\n",
       " 'I feel bad.': 'Ich fühle mich schlecht.',\n",
       " 'I feel old.': 'Ich fühle mich alt.',\n",
       " 'I fixed it.': 'Ich habe sie repariert.',\n",
       " 'I found it.': 'Ich habe sie gefunden.',\n",
       " 'I got an A.': 'Ich habe eine Eins bekommen.',\n",
       " 'I had help.': 'Ich hatte Hilfe.',\n",
       " 'I hate Tom.': 'Ich hasse Tom.',\n",
       " 'I have one.': 'Ich habe eines.',\n",
       " 'I have won.': 'Ich bin Sieger.',\n",
       " 'I hear you.': 'Ich verstehe, was Sie sagen.',\n",
       " 'I heard it.': 'Ich habe es vernommen.',\n",
       " 'I help him.': 'Ich helfe ihm.',\n",
       " 'I hope not.': 'Ich hoffe nicht.',\n",
       " 'I just ate.': 'Ich habe gerade gegessen.',\n",
       " 'I knew Tom.': 'Ich kannte Tom.',\n",
       " 'I know Tom.': 'Ich kenne Tom.',\n",
       " 'I know her.': 'Ich kenne sie.',\n",
       " 'I know now.': 'Ich weiß es jetzt.',\n",
       " 'I know you.': 'Ich kenne dich.',\n",
       " 'I like Tom.': 'Ich mag Tom.',\n",
       " 'I like art.': 'Ich mag Kunst.',\n",
       " 'I like him.': 'Ich mag ihn.',\n",
       " 'I like tea.': 'Ich mag Tee.',\n",
       " 'I like you.': 'Ich mag dich.',\n",
       " 'I listened.': 'Ich habe zugehört.',\n",
       " 'I love Tom.': 'Ich liebe Tom.',\n",
       " 'I love her.': 'Ich liebe sie.',\n",
       " 'I love him.': 'Ich liebe ihn.',\n",
       " 'I love tea.': 'Ich liebe Tee.',\n",
       " 'I love you.': 'Ich liebe dich.',\n",
       " 'I loved it.': 'Ich liebte es.',\n",
       " 'I made tea.': 'Ich machte Tee.',\n",
       " 'I met them.': 'Ich traf sie.',\n",
       " 'I miss Tom.': 'Tom fehlt mir.',\n",
       " 'I miss you.': 'Du fehlst mir.',\n",
       " 'I need Tom.': 'Ich brauche Tom.',\n",
       " 'I need air.': 'Ich brauche Luft.',\n",
       " 'I need ice.': 'Ich brauche Eis.',\n",
       " 'I need you.': 'Ich brauche euch.',\n",
       " 'I panicked.': 'Ich geriet in Panik.',\n",
       " 'I promised.': 'Ich habe es versprochen.',\n",
       " 'I ran away.': 'Ich rannte davon.',\n",
       " 'I ran home.': 'Ich rannte nach Hause.',\n",
       " 'I remember.': 'Ich erinnere mich.',\n",
       " 'I resigned.': 'Ich trat zurück.',\n",
       " 'I said yes.': 'Ich sagte ja.',\n",
       " 'I sat down.': 'Ich setzte mich.',\n",
       " 'I saw that.': 'Das habe ich gesehen.',\n",
       " 'I saw them.': 'Ich habe sie gesehen.',\n",
       " 'I see that.': 'Ich sehe das.',\n",
       " 'I shot Tom.': 'Ich schoss auf Tom.',\n",
       " 'I survived.': 'Ich überlebte.',\n",
       " 'I think so.': 'Ich stimme dem zu.',\n",
       " 'I threw up.': 'Ich habe erbrochen.',\n",
       " 'I told Tom.': 'Ich habe es Tom gesagt.',\n",
       " 'I use this.': 'Ich benutze das.',\n",
       " 'I want Tom.': 'Ich will Tom.',\n",
       " 'I want one!': 'Ich will eine!',\n",
       " 'I want one.': 'Ich will eins.',\n",
       " 'I want you.': 'Ich will dich!',\n",
       " 'I was away.': 'Ich war weg.',\n",
       " 'I was busy.': 'Ich war beschäftigt.',\n",
       " 'I was good.': 'Ich war gut.',\n",
       " 'I was rude.': 'Ich war ruppig.',\n",
       " 'I was sick.': 'Ich war krank.',\n",
       " 'I will try.': 'Ich werde es versuchen.',\n",
       " \"I won't go.\": 'Ich werde nicht gehen.',\n",
       " \"I'll be OK.\": 'Es wird mir gut gehen.',\n",
       " \"I'll do it.\": 'Ich werde es tun.',\n",
       " \"I'll go in.\": 'Ich werde reingehen.',\n",
       " \"I'll hurry.\": 'Ich werde mich beeilen.',\n",
       " \"I'll shoot.\": 'Ich werde schießen.',\n",
       " \"I'll stand.\": 'Ich werde stehen.',\n",
       " \"I'll start.\": 'Ich werde anfangen.',\n",
       " \"I'm a cook.\": 'Ich bin ein Koch.',\n",
       " \"I'm a hero.\": 'Ich bin ein Held.',\n",
       " \"I'm a monk.\": 'Ich bin ein Mönch.',\n",
       " \"I'm afraid.\": 'Ich habe Angst.',\n",
       " \"I'm amused.\": 'Ich bin amüsiert.',\n",
       " \"I'm anemic.\": 'Ich habe Blutarmut.',\n",
       " \"I'm better.\": 'Ich bin besser.',\n",
       " \"I'm biased.\": 'Ich bin voreingenommen.',\n",
       " \"I'm coming.\": 'Ich bin gleich da.',\n",
       " \"I'm eating.\": 'Ich bin dabei zu essen.',\n",
       " \"I'm famous.\": 'Ich bin berühmt.',\n",
       " \"I'm for it.\": 'Ich bin dafür.',\n",
       " \"I'm greedy.\": 'Ich bin gierig.',\n",
       " \"I'm hiding.\": 'Ich verstecke mich gerade.',\n",
       " \"I'm humble.\": 'Ich bin bescheiden.',\n",
       " \"I'm hungry!\": 'Ich bin hungrig!',\n",
       " \"I'm hungry.\": 'Ich habe Hunger.',\n",
       " \"I'm immune.\": 'Ich bin immun.',\n",
       " \"I'm in bed.\": 'Ich bin im Bett.',\n",
       " \"I'm inside.\": 'Ich bin drinnen.',\n",
       " \"I'm lonely.\": 'Ich bin einsam.',\n",
       " \"I'm losing.\": 'Ich verliere.',\n",
       " \"I'm mature.\": 'Ich bin reif.',\n",
       " \"I'm moving.\": 'Ich bewege mich.',\n",
       " \"I'm not OK.\": 'Ich bin nicht okay.',\n",
       " \"I'm rested.\": 'Ich bin ausgeruht.',\n",
       " \"I'm ruined.\": 'Ich bin ruiniert.',\n",
       " \"I'm scared.\": 'Ich habe Angst.',\n",
       " \"I'm single.\": 'Ich bin single.',\n",
       " \"I'm sleepy!\": 'Ich bin müde!',\n",
       " \"I'm sneaky.\": 'Ich bin hinterlistig.',\n",
       " \"I'm so fat.\": 'Ich bin so fett.',\n",
       " \"I'm thirty.\": 'Ich bin dreißig Jahre alt.',\n",
       " \"I've eaten.\": 'Ich habe gegessen.',\n",
       " \"I've tried.\": 'Ich habe es versucht.',\n",
       " 'Ignore Tom.': 'Ignorier Tom.',\n",
       " 'Is Tom big?': 'Ist Tom groß?',\n",
       " 'Is Tom hot?': 'Ist Tom zu heiß?',\n",
       " 'Is Tom ill?': 'Ist Tom krank?',\n",
       " 'Is Tom out?': 'Ist Tom ausgegangen?',\n",
       " 'Is he dead?': 'Ist er tot?',\n",
       " 'Is he tall?': 'Ist er groß?',\n",
       " 'Is it done?': 'Ist es fertig?',\n",
       " 'Is it free?': 'Ist es kostenlos?',\n",
       " 'Is it good?': 'Ist es gut?',\n",
       " 'Is it love?': 'Ist das Liebe?',\n",
       " 'Is it time?': 'Ist es so weit?',\n",
       " 'Is that it?': 'Ist es das?',\n",
       " 'Is this OK?': 'Ist das okay?',\n",
       " 'Is this it?': 'Ist es das?',\n",
       " 'It happens.': 'Das passiert!',\n",
       " 'It is 7:45.': 'Es ist 7:45 Uhr.',\n",
       " 'It matters.': 'Das tut was zur Sache.',\n",
       " 'It was big.': 'Es war groß.',\n",
       " \"It'll work.\": 'Es wird funktionieren.',\n",
       " \"It's Tom's.\": 'Das gehört Tom.',\n",
       " \"It's a bet.\": 'Es ist eine Wette.',\n",
       " \"It's a fad.\": 'Das ist eine vorübergehende Laune.',\n",
       " \"It's alive.\": 'Es lebt!',\n",
       " \"It's bulky.\": 'Es ist unhandlich.',\n",
       " \"It's clean.\": 'Er ist sauber.',\n",
       " \"It's clear.\": 'Es ist klar.',\n",
       " \"It's close.\": 'Es ist nah.',\n",
       " \"It's early.\": 'Es ist früh.',\n",
       " \"It's great.\": 'Es ist großartig.',\n",
       " \"It's green.\": 'Das ist grün.',\n",
       " \"It's my CD.\": 'Das ist meine CD.',\n",
       " \"It's night.\": 'Es ist Nacht.',\n",
       " \"It's on me.\": 'Das geht auf meine Rechnung.',\n",
       " \"It's ready.\": 'Es ist fertig.',\n",
       " \"It's shiny.\": 'Es glänzt.',\n",
       " \"It's stuck.\": 'Es steckt fest.',\n",
       " \"It's there.\": 'Es ist da.',\n",
       " \"It's white.\": 'Es ist weiß.',\n",
       " \"It's windy.\": 'Es ist windig.',\n",
       " \"It's yours.\": 'Es gehört dir.',\n",
       " 'Jesus wept.': 'Jesus weinte.',\n",
       " 'Just do it.': 'Mach es doch!',\n",
       " 'Just relax.': 'Entspann dich einfach!',\n",
       " 'Keep it up!': 'Nicht nachlassen!',\n",
       " 'Keep it up.': 'Nicht nachlassen!',\n",
       " 'Keep quiet!': 'Bleib ruhig!',\n",
       " 'Keep quiet.': 'Bleibt ruhig.',\n",
       " 'Leave town.': 'Verlassen Sie die Stadt.',\n",
       " 'Let Tom go.': 'Lasst Tom los!',\n",
       " 'Let Tom in.': 'Lasst Tom rein.',\n",
       " 'Let me die.': 'Lass mich sterben.',\n",
       " 'Let me out!': 'Lass mich raus!',\n",
       " 'Let me pay.': 'Lass mich zahlen!',\n",
       " 'Let me see.': 'Lassen Sie mich mal sehen.',\n",
       " 'Let me try.': 'Lass mich mal probieren.',\n",
       " 'Let us out.': 'Lassen Sie uns heraus!',\n",
       " \"Let's pray.\": 'Lasset uns beten!',\n",
       " \"Let's talk.\": 'Lass uns reden.',\n",
       " \"Let's vote.\": 'Lasst uns abstimmen.',\n",
       " \"Let's walk.\": 'Lasst uns gehen.',\n",
       " 'Look again.': 'Schau nochmal hin.',\n",
       " 'Look ahead.': 'Seien Sie vorausschauend.',\n",
       " 'Look at it.': 'Schau es dir an.',\n",
       " 'Look at me.': 'Sieh mich an.',\n",
       " 'Look at us.': 'Schau uns an.',\n",
       " 'Look it up.': 'Schlag es nach!',\n",
       " 'Look there.': 'Sieh dort!',\n",
       " 'Love hurts.': 'Liebe tut weh.',\n",
       " 'Love lasts.': 'Die Liebe bleibt.',\n",
       " 'Mama cried.': 'Mama weinte.',\n",
       " 'Never mind!': 'Mach dir nichts draus!',\n",
       " 'No comment.': 'Kein Kommentar.',\n",
       " 'No kidding?': 'Im Ernst?',\n",
       " 'No problem!': 'Kein Problem!',\n",
       " 'No problem.': 'Ohne Probleme.',\n",
       " 'Oh, really?': 'Ach, wirklich?',\n",
       " 'Pick it up.': 'Hebe es auf.',\n",
       " 'Pull me up.': 'Ziehen Sie mich hoch!',\n",
       " 'Quiet down.': 'Seien Sie leise.',\n",
       " 'Replace it.': 'Tauscht es aus.',\n",
       " 'Run for it!': 'Beeile dich!',\n",
       " 'Say cheese.': 'Bitte recht freundlich!',\n",
       " 'Say please.': 'Sagen Sie „bitte“ .',\n",
       " 'She is old.': 'Sie ist alt.',\n",
       " 'She smiled.': 'Sie hat gelächelt.',\n",
       " \"She's busy.\": 'Sie ist beschäftigt.',\n",
       " \"She's mine.\": 'Sie gehört mir.',\n",
       " 'Sing along.': 'Sing mit!',\n",
       " 'Smell this.': 'Riech mal.',\n",
       " 'Start here.': 'Fangen Sie hier an.',\n",
       " 'Start over.': 'Fangen Sie noch mal von vorne an.',\n",
       " 'Stay sharp.': 'Bleibt wachsam!',\n",
       " 'Step aside.': 'Gehen Sie zur Seite!',\n",
       " 'Step on it!': 'Gib Gas!',\n",
       " 'Stop there.': 'Bleib dort stehen.',\n",
       " 'Take a bus.': 'Fahre mit dem Bus.',\n",
       " 'Take a nap.': 'Macht ein Nickerchen.',\n",
       " 'Take cover!': 'Geht in Deckung!',\n",
       " 'Take these.': 'Nehmen Sie das hier.',\n",
       " 'Talk to me!': 'Sprich mit mir!',\n",
       " 'Talk to me.': 'Sprich mit mir.',\n",
       " 'Taste this.': 'Schmeck das.',\n",
       " 'That a boy!': 'Guter Junge!',\n",
       " 'That hurts.': 'Das tut weh.',\n",
       " \"That'll do.\": 'Das wird gehen.',\n",
       " \"That's Tom.\": 'Das ist Tom.',\n",
       " \"That's all.\": 'Das ist alles.',\n",
       " \"That's his.\": 'Das gehört ihm.',\n",
       " \"That's new.\": 'Es ist neu.',\n",
       " \"That's sad.\": 'Das ist traurig.',\n",
       " 'They agree.': 'Sie stimmen zu.',\n",
       " 'They cheat.': 'Sie betrügen.',\n",
       " 'They slept.': 'Sie schliefen.',\n",
       " 'They stood.': 'Sie standen.',\n",
       " 'They tried.': 'Sie versuchten es.',\n",
       " 'They voted.': 'Sie haben gewählt.',\n",
       " \"They're in.\": 'Sie sind dabei.',\n",
       " 'This is OK.': 'Das ist in Ordnung.',\n",
       " 'This is it.': 'Das ist es.',\n",
       " 'This is me.': 'Das bin ich.',\n",
       " \"This'll do.\": 'Das wird genügen.',\n",
       " 'Time is up.': 'Die Zeit ist um.',\n",
       " 'Tom agreed.': 'Tom war einverstanden.',\n",
       " 'Tom agrees.': 'Tom ist einverstanden.',\n",
       " 'Tom ate it.': 'Tom hat’s gegessen.',\n",
       " 'Tom bit me.': 'Tom hat mich gebissen.',\n",
       " 'Tom burped.': 'Tom stieß auf.',\n",
       " 'Tom called.': 'Tom hat angerufen.',\n",
       " 'Tom cheats.': 'Tom mogelt.',\n",
       " 'Tom danced.': 'Tom tanzte.',\n",
       " 'Tom dances.': 'Tom tanzt.',\n",
       " 'Tom did it.': 'Tom hat das getan.',\n",
       " 'Tom drinks.': 'Tom trinkt.',\n",
       " 'Tom drives.': 'Tom fährt Auto.',\n",
       " 'Tom failed.': 'Tom hat versagt.',\n",
       " 'Tom forgot.': 'Tom vergaß es.',\n",
       " 'Tom fought.': 'Tom kämpfte.',\n",
       " 'Tom gasped.': 'Tom japste.',\n",
       " 'Tom goofed.': 'Tom hat einen dummen Fehler gemacht.',\n",
       " 'Tom got up.': 'Tom stand auf.',\n",
       " 'Tom has it.': 'Tom hat es.',\n",
       " 'Tom helped.': 'Tom hat geholfen.',\n",
       " 'Tom hit me.': 'Tom hat mich gehauen!',\n",
       " 'Tom is bad.': 'Tom ist schlecht.',\n",
       " 'Tom is big.': 'Tom ist groß.',\n",
       " 'Tom is fat.': 'Tom ist dick.',\n",
       " 'Tom is fun.': 'Tom ist lustig.',\n",
       " 'Tom is ill.': 'Tom ist krank.',\n",
       " 'Tom is mad.': 'Tom ist wütend.',\n",
       " 'Tom is new.': 'Tom ist neu.',\n",
       " 'Tom is odd.': 'Tom ist komisch.',\n",
       " 'Tom is old.': 'Tom ist alt.',\n",
       " 'Tom is out.': 'Tom ist draußen.',\n",
       " 'Tom is sad.': 'Tom ist traurig.',\n",
       " 'Tom is shy.': 'Tom ist schüchtern.',\n",
       " 'Tom is wet.': 'Tom ist nass.',\n",
       " 'Tom jumped.': 'Tom ist gesprungen.',\n",
       " 'Tom looked.': 'Tom schaute.',\n",
       " 'Tom moaned.': 'Tom stöhnte.',\n",
       " 'Tom nodded.': 'Tom nickte.',\n",
       " 'Tom obeyed.': 'Tom hat gehorcht.',\n",
       " 'Tom paints.': 'Tom malt.',\n",
       " 'Tom paused.': 'Tom hielt inne.',\n",
       " 'Tom phoned.': 'Tom hat telefoniert.',\n",
       " 'Tom prayed.': 'Tom hat gebetet.',\n",
       " 'Tom saw it.': 'Tom hat es gesehen.',\n",
       " 'Tom saw me.': 'Tom sah mich.',\n",
       " 'Tom saw us.': 'Tom sah uns.',\n",
       " 'Tom shaved.': 'Tom hat sich rasiert.',\n",
       " 'Tom sighed.': 'Tom seufzte.',\n",
       " 'Tom smiled.': 'Tom lächelte.',\n",
       " 'Tom smoked.': 'Tom hat geraucht.',\n",
       " 'Tom smokes.': 'Tom raucht.',\n",
       " 'Tom snores.': 'Tom schnarcht.',\n",
       " 'Tom stayed.': 'Tom ist geblieben.',\n",
       " 'Tom talked.': 'Tom sprach.',\n",
       " 'Tom waited.': 'Tom wartete.',\n",
       " 'Tom walked.': 'Tom ging zu Fuß.',\n",
       " 'Tom winked.': 'Tom zwinkerte.',\n",
       " 'Tom worked.': 'Tom arbeitete.',\n",
       " 'Tom yawned.': 'Tom gähnte.',\n",
       " 'Tom yelled.': 'Tom hat geschrien.',\n",
       " \"Tom'll cry.\": 'Tom wird heulen.',\n",
       " \"Tom'll die.\": 'Tom wird sterben.',\n",
       " \"Tom'll pay.\": 'Tom wird bezahlen.',\n",
       " \"Tom's busy.\": 'Tom ist beschäftigt.',\n",
       " \"Tom's deaf.\": 'Tom ist taub.',\n",
       " \"Tom's died.\": 'Tom ist gestorben.',\n",
       " \"Tom's fast.\": 'Tom ist schnell.',\n",
       " \"Tom's free.\": 'Tom ist frei.',\n",
       " \"Tom's glad.\": 'Tom ist froh.',\n",
       " \"Tom's gone.\": 'Tom ist weg.',\n",
       " \"Tom's here.\": 'Tom ist hier.',\n",
       " \"Tom's home.\": 'Tom ist zu Hause.',\n",
       " \"Tom's hurt.\": 'Tom ist verletzt.',\n",
       " \"Tom's left.\": 'Tom ist gegangen.',\n",
       " \"Tom's mean.\": 'Tom ist gemein.',\n",
       " \"Tom's safe.\": 'Tom ist in Sicherheit.',\n",
       " \"Tom's sick.\": 'Tom ist krank.',\n",
       " \"Tom's ugly.\": 'Tom ist hässlich.',\n",
       " \"Tom's weak.\": 'Tom ist schwach.',\n",
       " \"Tom's well.\": 'Tom geht es gut.',\n",
       " 'Tough luck!': 'Pech gehabt!',\n",
       " 'Try harder.': 'Gib dir größere Mühe.',\n",
       " 'Turn it on.': 'Schalte sie an.',\n",
       " 'Turn it up.': 'Mach es lauter.',\n",
       " 'Turn right.': 'Rechts abbiegen!',\n",
       " 'Wait a sec.': \"Wart' mal kurz.\",\n",
       " 'War is bad.': 'Krieg ist schlecht.',\n",
       " 'Was it fun?': 'Hat es Spaß gemacht?',\n",
       " 'Watch this.': 'Guck mal.',\n",
       " 'We all die.': 'Wir alle sterben.',\n",
       " 'We all lie.': 'Wir lügen alle.',\n",
       " 'We are men.': 'Wir sind Männer.',\n",
       " 'We buy CDs.': 'Wir kaufen CDs.',\n",
       " 'We can pay.': 'Wir können bezahlen.',\n",
       " 'We can try.': 'Wir können es versuchen.',\n",
       " 'We can win.': 'Wir können siegen.',\n",
       " 'We had fun.': 'Wir hatten unseren Spaß.',\n",
       " 'We laughed.': 'Wir lachten.',\n",
       " 'We like it.': 'Wir mögen es.',\n",
       " 'We lost it.': 'Wir rasteten aus.',\n",
       " 'We love it.': 'Wir lieben es.',\n",
       " ...}"
      ]
     },
     "execution_count": 4,
     "metadata": {},
     "output_type": "execute_result"
    }
   ],
   "source": [
    "deu_eng_dict"
   ]
  },
  {
   "cell_type": "code",
   "execution_count": 5,
   "metadata": {},
   "outputs": [],
   "source": [
    "sentences = []\n",
    "for i in range(50):\n",
    "    sentences.append(deu_eng[i][0])"
   ]
  },
  {
   "cell_type": "markdown",
   "metadata": {},
   "source": [
    "### GloVe Word Embeddings"
   ]
  },
  {
   "cell_type": "code",
   "execution_count": 7,
   "metadata": {},
   "outputs": [],
   "source": [
    "# Extract word vectors\n",
    "word_embeddings = {}\n",
    "f = open('glove.6B.100d.txt', encoding='utf-8')\n",
    "for line in f:\n",
    "    values = line.split()\n",
    "    word = values[0]\n",
    "    coefs = np.asarray(values[1:], dtype='float32')\n",
    "    word_embeddings[word] = coefs\n",
    "f.close()"
   ]
  },
  {
   "cell_type": "code",
   "execution_count": 8,
   "metadata": {},
   "outputs": [
    {
     "data": {
      "text/plain": [
       "400000"
      ]
     },
     "execution_count": 8,
     "metadata": {},
     "output_type": "execute_result"
    }
   ],
   "source": [
    "len(word_embeddings)"
   ]
  },
  {
   "cell_type": "markdown",
   "metadata": {},
   "source": [
    "### Text Preprocessing"
   ]
  },
  {
   "cell_type": "code",
   "execution_count": 9,
   "metadata": {},
   "outputs": [],
   "source": [
    "# remove punctuations, numbers and special characters\n",
    "clean_sentences = pd.Series(sentences).str.replace(\"[^a-zA-Z]\", \" \")\n",
    "\n",
    "# make alphabets lowercase\n",
    "clean_sentences = [s.lower() for s in clean_sentences]"
   ]
  },
  {
   "cell_type": "code",
   "execution_count": 11,
   "metadata": {},
   "outputs": [
    {
     "name": "stderr",
     "output_type": "stream",
     "text": [
      "[nltk_data] Downloading package stopwords to C:\\nltk_data...\n",
      "[nltk_data]   Package stopwords is already up-to-date!\n"
     ]
    }
   ],
   "source": [
    "nltk.download('stopwords')\n",
    "from nltk.corpus import stopwords\n",
    "stop_words = stopwords.words('english')"
   ]
  },
  {
   "cell_type": "code",
   "execution_count": 12,
   "metadata": {},
   "outputs": [],
   "source": [
    "# function to remove stopwords\n",
    "def remove_stopwords(sen):\n",
    "    sen_new = \" \".join([i for i in sen if i not in stop_words])\n",
    "    return sen_new"
   ]
  },
  {
   "cell_type": "code",
   "execution_count": 13,
   "metadata": {},
   "outputs": [],
   "source": [
    "# remove stopwords from the sentences\n",
    "clean_sentences = [remove_stopwords(r.split()) for r in clean_sentences]"
   ]
  },
  {
   "cell_type": "markdown",
   "metadata": {},
   "source": [
    "### Vector representation of sentences"
   ]
  },
  {
   "cell_type": "code",
   "execution_count": 14,
   "metadata": {},
   "outputs": [],
   "source": [
    "sentence_vectors = []\n",
    "for i in clean_sentences:\n",
    "    if len(i) != 0:\n",
    "        v = sum([word_embeddings.get(w, np.zeros((100,))) for w in i.split()])/(len(i.split())+0.001)\n",
    "    else:\n",
    "        v = np.zeros((100,))\n",
    "    sentence_vectors.append(v)"
   ]
  },
  {
   "cell_type": "markdown",
   "metadata": {},
   "source": [
    "### Similarity matrix preparation\n",
    "\n",
    "https://arxiv.org/pdf/1602.03606.pdf"
   ]
  },
  {
   "cell_type": "code",
   "execution_count": 15,
   "metadata": {},
   "outputs": [],
   "source": [
    "# similarity matrices\n",
    "sim_mat_1 = np.zeros([len(sentences), len(sentences)])\n",
    "sim_mat_2 = np.zeros([len(sentences), len(sentences)])\n",
    "sim_mat_3 = np.zeros([len(sentences), len(sentences)])\n",
    "sim_mat_4 = np.zeros([len(sentences), len(sentences)])"
   ]
  },
  {
   "cell_type": "code",
   "execution_count": 16,
   "metadata": {},
   "outputs": [],
   "source": [
    "from sklearn.metrics.pairwise import cosine_similarity, pairwise_kernels, manhattan_distances, euclidean_distances"
   ]
  },
  {
   "attachments": {
    "cosine.PNG": {
     "image/png": "[encoded data removed]"
    }
   },
   "cell_type": "markdown",
   "metadata": {},
   "source": [
    "#### 1. Cosine Similarity\n",
    "![cosine.PNG](attachment:cosine.PNG)"
   ]
  },
  {
   "cell_type": "code",
   "execution_count": 17,
   "metadata": {},
   "outputs": [],
   "source": [
    "for i in range(len(sentences)):\n",
    "    for j in range(len(sentences)):\n",
    "        if i != j:\n",
    "            sim_mat_1[i][j] = cosine_similarity(sentence_vectors[i].reshape(1,100), sentence_vectors[j].reshape(1,100))[0,0]"
   ]
  },
  {
   "attachments": {
    "manhattan.PNG": {
     "image/png": "[encoded data removed]"
    }
   },
   "cell_type": "markdown",
   "metadata": {},
   "source": [
    "#### 2. Manhattan Distance\n",
    "![manhattan.PNG](attachment:manhattan.PNG)"
   ]
  },
  {
   "cell_type": "code",
   "execution_count": 18,
   "metadata": {},
   "outputs": [],
   "source": [
    "for i in range(len(sentences)):\n",
    "    for j in range(len(sentences)):\n",
    "        if i != j:\n",
    "            sim_mat_2[i][j] = manhattan_distances(sentence_vectors[i].reshape(1,100), sentence_vectors[j].reshape(1,100))[0,0]"
   ]
  },
  {
   "attachments": {
    "euclidean.PNG": {
     "image/png": "[encoded data removed]"
    }
   },
   "cell_type": "markdown",
   "metadata": {},
   "source": [
    "#### 3. Euclidean Distance\n",
    "![euclidean.PNG](attachment:euclidean.PNG)"
   ]
  },
  {
   "cell_type": "code",
   "execution_count": 19,
   "metadata": {},
   "outputs": [],
   "source": [
    "for i in range(len(sentences)):\n",
    "    for j in range(len(sentences)):\n",
    "        if i != j:\n",
    "            sim_mat_3[i][j] = euclidean_distances(sentence_vectors[i].reshape(1,100), sentence_vectors[j].reshape(1,100))[0,0]"
   ]
  },
  {
   "attachments": {
    "kernel.PNG": {
     "image/png": "[encoded data removed]"
    }
   },
   "cell_type": "markdown",
   "metadata": {},
   "source": [
    "#### 4. Pairwise Kernels\n",
    "![kernel.PNG](attachment:kernel.PNG)"
   ]
  },
  {
   "cell_type": "code",
   "execution_count": 20,
   "metadata": {},
   "outputs": [],
   "source": [
    "for i in range(len(sentences)):\n",
    "    for j in range(len(sentences)):\n",
    "        if i != j:\n",
    "            sim_mat_4[i][j] = pairwise_kernels(sentence_vectors[i].reshape(1,100), sentence_vectors[j].reshape(1,100))[0,0]"
   ]
  },
  {
   "cell_type": "markdown",
   "metadata": {},
   "source": [
    "### Applying PageRank Algorithm"
   ]
  },
  {
   "cell_type": "code",
   "execution_count": 21,
   "metadata": {},
   "outputs": [],
   "source": [
    "import networkx as nx"
   ]
  },
  {
   "cell_type": "markdown",
   "metadata": {},
   "source": [
    "#### 1. Cosine Similarity"
   ]
  },
  {
   "cell_type": "code",
   "execution_count": 23,
   "metadata": {},
   "outputs": [],
   "source": [
    "nx_graph_1 = nx.from_numpy_array(sim_mat_1)\n",
    "scores_1 = nx.pagerank(nx_graph_1)"
   ]
  },
  {
   "cell_type": "markdown",
   "metadata": {},
   "source": [
    "#### 2. Manhattan Distance"
   ]
  },
  {
   "cell_type": "code",
   "execution_count": 24,
   "metadata": {},
   "outputs": [],
   "source": [
    "nx_graph_2 = nx.from_numpy_array(sim_mat_2)\n",
    "scores_2 = nx.pagerank(nx_graph_2)"
   ]
  },
  {
   "cell_type": "markdown",
   "metadata": {},
   "source": [
    "#### 3. Euclidean Distance"
   ]
  },
  {
   "cell_type": "code",
   "execution_count": 25,
   "metadata": {},
   "outputs": [],
   "source": [
    "nx_graph_3 = nx.from_numpy_array(sim_mat_3)\n",
    "scores_3 = nx.pagerank(nx_graph_3)"
   ]
  },
  {
   "cell_type": "markdown",
   "metadata": {},
   "source": [
    "#### 4. Pairwise Kernels"
   ]
  },
  {
   "cell_type": "code",
   "execution_count": 26,
   "metadata": {},
   "outputs": [],
   "source": [
    "nx_graph_4 = nx.from_numpy_array(sim_mat_4)\n",
    "scores_4 = nx.pagerank(nx_graph_4)"
   ]
  },
  {
   "cell_type": "markdown",
   "metadata": {},
   "source": [
    "### Summary Extraction"
   ]
  },
  {
   "cell_type": "markdown",
   "metadata": {},
   "source": [
    "#### 1. Cosine Similarity"
   ]
  },
  {
   "cell_type": "code",
   "execution_count": 27,
   "metadata": {},
   "outputs": [],
   "source": [
    "ranked_sentences_1 = sorted(((scores_1[i],s) for i,s in enumerate(sentences)), reverse=True)\n",
    "\n",
    "test_1 = []\n",
    "# Extract top 10 sentences as the summary\n",
    "for i in range(10):\n",
    "    test_1.append(ranked_sentences_1[i][1])"
   ]
  },
  {
   "cell_type": "code",
   "execution_count": 28,
   "metadata": {},
   "outputs": [
    {
     "data": {
      "text/plain": [
       "['Go on.',\n",
       " 'Got it?',\n",
       " 'Got it?',\n",
       " 'Got it?',\n",
       " 'No way!',\n",
       " 'I know.',\n",
       " 'I see.',\n",
       " 'I see.',\n",
       " 'Wait!',\n",
       " 'Stop!']"
      ]
     },
     "execution_count": 28,
     "metadata": {},
     "output_type": "execute_result"
    }
   ],
   "source": [
    "test_1"
   ]
  },
  {
   "cell_type": "markdown",
   "metadata": {},
   "source": [
    "#### 2. Manhattan Distance"
   ]
  },
  {
   "cell_type": "code",
   "execution_count": 29,
   "metadata": {},
   "outputs": [],
   "source": [
    "ranked_sentences_2 = sorted(((scores_2[i],s) for i,s in enumerate(sentences)), reverse=True)\n",
    "\n",
    "test_2 = []\n",
    "# Extract top 10 sentences as the summary\n",
    "for i in range(10):\n",
    "    test_2.append(ranked_sentences_2[i][1])"
   ]
  },
  {
   "cell_type": "code",
   "execution_count": 30,
   "metadata": {},
   "outputs": [
    {
     "data": {
      "text/plain": [
       "['I lied.',\n",
       " 'I sang.',\n",
       " 'Hop in.',\n",
       " 'I swim.',\n",
       " 'Cheers!',\n",
       " 'Freeze!',\n",
       " 'Freeze!',\n",
       " 'Hi.',\n",
       " 'Hi.',\n",
       " 'Wow!']"
      ]
     },
     "execution_count": 30,
     "metadata": {},
     "output_type": "execute_result"
    }
   ],
   "source": [
    "test_2"
   ]
  },
  {
   "cell_type": "markdown",
   "metadata": {},
   "source": [
    "#### 3. Euclidean Distance"
   ]
  },
  {
   "cell_type": "code",
   "execution_count": 31,
   "metadata": {},
   "outputs": [],
   "source": [
    "ranked_sentences_3 = sorted(((scores_3[i],s) for i,s in enumerate(sentences)), reverse=True)\n",
    "\n",
    "test_3 = []\n",
    "# Extract top 10 sentences as the summary\n",
    "for i in range(10):\n",
    "    test_3.append(ranked_sentences_3[i][1])"
   ]
  },
  {
   "cell_type": "code",
   "execution_count": 32,
   "metadata": {},
   "outputs": [
    {
     "data": {
      "text/plain": [
       "['I lied.',\n",
       " 'I sang.',\n",
       " 'Cheers!',\n",
       " 'Hi.',\n",
       " 'Hi.',\n",
       " 'Hop in.',\n",
       " 'I swim.',\n",
       " 'Freeze!',\n",
       " 'Freeze!',\n",
       " 'Fire!']"
      ]
     },
     "execution_count": 32,
     "metadata": {},
     "output_type": "execute_result"
    }
   ],
   "source": [
    "test_3"
   ]
  },
  {
   "cell_type": "markdown",
   "metadata": {},
   "source": [
    "#### 4. Pairwise Kernels"
   ]
  },
  {
   "cell_type": "code",
   "execution_count": 33,
   "metadata": {},
   "outputs": [],
   "source": [
    "ranked_sentences_4 = sorted(((scores_4[i],s) for i,s in enumerate(sentences)), reverse=True)\n",
    "\n",
    "test_4 = []\n",
    "# Extract top 10 sentences as the summary\n",
    "for i in range(10):\n",
    "    test_4.append(ranked_sentences_4[i][1])"
   ]
  },
  {
   "cell_type": "code",
   "execution_count": 34,
   "metadata": {},
   "outputs": [
    {
     "data": {
      "text/plain": [
       "['Go on.',\n",
       " 'Got it?',\n",
       " 'Got it?',\n",
       " 'Got it?',\n",
       " 'I know.',\n",
       " 'No way!',\n",
       " 'I see.',\n",
       " 'I see.',\n",
       " 'Help!',\n",
       " 'Help!']"
      ]
     },
     "execution_count": 34,
     "metadata": {},
     "output_type": "execute_result"
    }
   ],
   "source": [
    "test_4"
   ]
  },
  {
   "cell_type": "markdown",
   "metadata": {},
   "source": [
    "### Calculating BLEU Score"
   ]
  },
  {
   "cell_type": "code",
   "execution_count": 35,
   "metadata": {},
   "outputs": [],
   "source": [
    "from nltk.tokenize import word_tokenize\n",
    "from nltk.translate.bleu_score import sentence_bleu"
   ]
  },
  {
   "cell_type": "code",
   "execution_count": 36,
   "metadata": {},
   "outputs": [],
   "source": [
    "# Tokenizing the original sentences to calculate score\n",
    "sen = []\n",
    "for s in sentences:\n",
    "    sen.append(word_tokenize(s))"
   ]
  },
  {
   "cell_type": "markdown",
   "metadata": {},
   "source": [
    "#### 1. Cosine Similarity"
   ]
  },
  {
   "cell_type": "code",
   "execution_count": 37,
   "metadata": {},
   "outputs": [],
   "source": [
    "test_sen_1 = []\n",
    "for t in test_1:\n",
    "    test_sen_1.append(word_tokenize(t))\n",
    "test_sen_1 = [y for x in test_sen_1 for y in x] # flatten list"
   ]
  },
  {
   "cell_type": "code",
   "execution_count": 38,
   "metadata": {},
   "outputs": [
    {
     "name": "stdout",
     "output_type": "stream",
     "text": [
      "5.553057155208292e-78\n"
     ]
    },
    {
     "name": "stderr",
     "output_type": "stream",
     "text": [
      "c:\\users\\chesh\\appdata\\local\\programs\\python\\python36\\lib\\site-packages\\nltk\\translate\\bleu_score.py:523: UserWarning: \n",
      "The hypothesis contains 0 counts of 4-gram overlaps.\n",
      "Therefore the BLEU score evaluates to 0, independently of\n",
      "how many N-gram overlaps of lower order it contains.\n",
      "Consider using lower n-gram order or use SmoothingFunction()\n",
      "  warnings.warn(_msg)\n"
     ]
    }
   ],
   "source": [
    "bleu_score_1 = sentence_bleu(sen, test_sen_1)\n",
    "print(bleu_score_1)"
   ]
  },
  {
   "cell_type": "markdown",
   "metadata": {},
   "source": [
    "#### 2. Manhattan Distance"
   ]
  },
  {
   "cell_type": "code",
   "execution_count": 39,
   "metadata": {},
   "outputs": [],
   "source": [
    "test_sen_2 = []\n",
    "for t in test_2:\n",
    "    test_sen_2.append(word_tokenize(t))\n",
    "test_sen_2 = [y for x in test_sen_2 for y in x] # flatten list"
   ]
  },
  {
   "cell_type": "code",
   "execution_count": 40,
   "metadata": {},
   "outputs": [
    {
     "name": "stdout",
     "output_type": "stream",
     "text": [
      "5.699690702988605e-78\n"
     ]
    }
   ],
   "source": [
    "bleu_score_2 = sentence_bleu(sen, test_sen_2)\n",
    "print(bleu_score_2)"
   ]
  },
  {
   "cell_type": "markdown",
   "metadata": {},
   "source": [
    "#### 3. Euclidean Distance"
   ]
  },
  {
   "cell_type": "code",
   "execution_count": 41,
   "metadata": {},
   "outputs": [],
   "source": [
    "test_sen_3 = []\n",
    "for t in test_3:\n",
    "    test_sen_3.append(word_tokenize(t))\n",
    "test_sen_3 = [y for x in test_sen_3 for y in x] # flatten list"
   ]
  },
  {
   "cell_type": "code",
   "execution_count": 42,
   "metadata": {},
   "outputs": [
    {
     "name": "stdout",
     "output_type": "stream",
     "text": [
      "5.699690702988605e-78\n"
     ]
    }
   ],
   "source": [
    "bleu_score_3 = sentence_bleu(sen, test_sen_3)\n",
    "print(bleu_score_3)"
   ]
  },
  {
   "cell_type": "markdown",
   "metadata": {},
   "source": [
    "#### 4. Pairwise Kernels"
   ]
  },
  {
   "cell_type": "code",
   "execution_count": 43,
   "metadata": {},
   "outputs": [],
   "source": [
    "test_sen_4 = []\n",
    "for t in test_4:\n",
    "    test_sen_4.append(word_tokenize(t))\n",
    "test_sen_4 = [y for x in test_sen_4 for y in x] # flatten list"
   ]
  },
  {
   "cell_type": "code",
   "execution_count": 44,
   "metadata": {},
   "outputs": [
    {
     "name": "stdout",
     "output_type": "stream",
     "text": [
      "5.333825857519833e-78\n"
     ]
    }
   ],
   "source": [
    "bleu_score_4 = sentence_bleu(sen, test_sen_4)\n",
    "print(bleu_score_4)"
   ]
  },
  {
   "cell_type": "markdown",
   "metadata": {},
   "source": [
    "## Part 2 : Translation"
   ]
  },
  {
   "cell_type": "markdown",
   "metadata": {},
   "source": [
    "#### 1. Cosine Similarity"
   ]
  },
  {
   "cell_type": "code",
   "execution_count": 46,
   "metadata": {},
   "outputs": [
    {
     "name": "stdout",
     "output_type": "stream",
     "text": [
      "Mach weiter.\n",
      "Einverstanden?\n",
      "Einverstanden?\n",
      "Einverstanden?\n",
      "In keinster Weise!\n",
      "Ich weiß.\n",
      "Aha.\n",
      "Aha.\n",
      "Warte!\n",
      "Stopp!\n"
     ]
    }
   ],
   "source": [
    "# Extract top 10 sentences as the summary\n",
    "for i in range(10):\n",
    "    print(deu_eng_dict[ranked_sentences_1[i][1]])"
   ]
  },
  {
   "cell_type": "markdown",
   "metadata": {},
   "source": [
    "#### 2. Manhattan Distance"
   ]
  },
  {
   "cell_type": "code",
   "execution_count": 47,
   "metadata": {},
   "outputs": [
    {
     "name": "stdout",
     "output_type": "stream",
     "text": [
      "Ich habe gelogen.\n",
      "Ich sang.\n",
      "Mach mit!\n",
      "Ich schwimme.\n",
      "Zum Wohl!\n",
      "Stehenbleiben!\n",
      "Stehenbleiben!\n",
      "Grüß Gott!\n",
      "Grüß Gott!\n",
      "Donnerwetter!\n"
     ]
    }
   ],
   "source": [
    "# Extract top 10 sentences as the summary\n",
    "for i in range(10):\n",
    "    print(deu_eng_dict[ranked_sentences_2[i][1]])"
   ]
  },
  {
   "cell_type": "markdown",
   "metadata": {},
   "source": [
    "#### 3. Euclidean Distance"
   ]
  },
  {
   "cell_type": "code",
   "execution_count": 48,
   "metadata": {},
   "outputs": [
    {
     "name": "stdout",
     "output_type": "stream",
     "text": [
      "Ich habe gelogen.\n",
      "Ich sang.\n",
      "Zum Wohl!\n",
      "Grüß Gott!\n",
      "Grüß Gott!\n",
      "Mach mit!\n",
      "Ich schwimme.\n",
      "Stehenbleiben!\n",
      "Stehenbleiben!\n",
      "Feuer!\n"
     ]
    }
   ],
   "source": [
    "# Extract top 10 sentences as the summary\n",
    "for i in range(10):\n",
    "    print(deu_eng_dict[ranked_sentences_3[i][1]])"
   ]
  },
  {
   "cell_type": "markdown",
   "metadata": {},
   "source": [
    "#### 4. Pairwise Kernels"
   ]
  },
  {
   "cell_type": "code",
   "execution_count": 49,
   "metadata": {},
   "outputs": [
    {
     "name": "stdout",
     "output_type": "stream",
     "text": [
      "Mach weiter.\n",
      "Einverstanden?\n",
      "Einverstanden?\n",
      "Einverstanden?\n",
      "Ich weiß.\n",
      "In keinster Weise!\n",
      "Aha.\n",
      "Aha.\n",
      "Zu Hülf!\n",
      "Zu Hülf!\n"
     ]
    }
   ],
   "source": [
    "# Extract top 10 sentences as the summary\n",
    "for i in range(10):\n",
    "    print(deu_eng_dict[ranked_sentences_4[i][1]])"
   ]
  },
  {
   "cell_type": "code",
   "execution_count": null,
   "metadata": {},
   "outputs": [],
   "source": []
  }
 ],
 "metadata": {
  "kernelspec": {
   "display_name": "Python 3",
   "language": "python",
   "name": "python3"
  },
  "language_info": {
   "codemirror_mode": {
    "name": "ipython",
    "version": 3
   },
   "file_extension": ".py",
   "mimetype": "text/x-python",
   "name": "python",
   "nbconvert_exporter": "python",
   "pygments_lexer": "ipython3",
   "version": "3.6.8"
  }
 },
 "nbformat": 4,
 "nbformat_minor": 2
}
